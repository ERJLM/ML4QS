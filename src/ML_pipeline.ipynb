{
 "cells": [
  {
   "cell_type": "code",
   "execution_count": 255,
   "id": "9b4a2574",
   "metadata": {},
   "outputs": [],
   "source": [
    "import os\n",
    "import pandas as pd\n",
    "import numpy as np\n",
    "from sklearn.model_selection import train_test_split\n",
    "from sklearn.pipeline import Pipeline\n",
    "from sklearn.compose import ColumnTransformer\n",
    "from sklearn.preprocessing import OneHotEncoder, MinMaxScaler\n",
    "from sklearn.linear_model import SGDClassifier\n",
    "from sklearn.tree import DecisionTreeClassifier\n",
    "from sklearn.ensemble import RandomForestClassifier\n",
    "from sklearn.neighbors import KNeighborsClassifier\n",
    "from sklearn.model_selection import GridSearchCV\n",
    "import lightgbm as lgb\n",
    "from sklearn.metrics import accuracy_score , balanced_accuracy_score, f1_score, roc_auc_score\n",
    "import time"
   ]
  },
  {
   "cell_type": "code",
   "execution_count": 256,
   "id": "f202e14c",
   "metadata": {},
   "outputs": [
    {
     "data": {
      "text/html": [
       "<div>\n",
       "<style scoped>\n",
       "    .dataframe tbody tr th:only-of-type {\n",
       "        vertical-align: middle;\n",
       "    }\n",
       "\n",
       "    .dataframe tbody tr th {\n",
       "        vertical-align: top;\n",
       "    }\n",
       "\n",
       "    .dataframe thead th {\n",
       "        text-align: right;\n",
       "    }\n",
       "</style>\n",
       "<table border=\"1\" class=\"dataframe\">\n",
       "  <thead>\n",
       "    <tr style=\"text-align: right;\">\n",
       "      <th></th>\n",
       "      <th>seconds_elapsed</th>\n",
       "      <th>z_accelerometer</th>\n",
       "      <th>y_accelerometer</th>\n",
       "      <th>x_accelerometer</th>\n",
       "      <th>z_gyroscope</th>\n",
       "      <th>y_gyroscope</th>\n",
       "      <th>x_gyroscope</th>\n",
       "      <th>user</th>\n",
       "    </tr>\n",
       "  </thead>\n",
       "  <tbody>\n",
       "    <tr>\n",
       "      <th>0</th>\n",
       "      <td>0.029490</td>\n",
       "      <td>0.620725</td>\n",
       "      <td>-0.024275</td>\n",
       "      <td>0.340136</td>\n",
       "      <td>0.015129</td>\n",
       "      <td>-0.497939</td>\n",
       "      <td>-0.129197</td>\n",
       "      <td>2</td>\n",
       "    </tr>\n",
       "    <tr>\n",
       "      <th>1</th>\n",
       "      <td>0.040027</td>\n",
       "      <td>-0.743177</td>\n",
       "      <td>-0.262221</td>\n",
       "      <td>-0.391995</td>\n",
       "      <td>0.203035</td>\n",
       "      <td>0.026631</td>\n",
       "      <td>-0.031968</td>\n",
       "      <td>3</td>\n",
       "    </tr>\n",
       "    <tr>\n",
       "      <th>2</th>\n",
       "      <td>0.040460</td>\n",
       "      <td>0.600845</td>\n",
       "      <td>0.465898</td>\n",
       "      <td>-1.121842</td>\n",
       "      <td>-0.556805</td>\n",
       "      <td>-0.030059</td>\n",
       "      <td>-0.312905</td>\n",
       "      <td>1</td>\n",
       "    </tr>\n",
       "    <tr>\n",
       "      <th>3</th>\n",
       "      <td>0.041894</td>\n",
       "      <td>1.271829</td>\n",
       "      <td>-0.032704</td>\n",
       "      <td>-0.037981</td>\n",
       "      <td>-0.022566</td>\n",
       "      <td>-0.200779</td>\n",
       "      <td>-0.155414</td>\n",
       "      <td>2</td>\n",
       "    </tr>\n",
       "    <tr>\n",
       "      <th>4</th>\n",
       "      <td>0.049252</td>\n",
       "      <td>1.260347</td>\n",
       "      <td>-0.319836</td>\n",
       "      <td>-0.342097</td>\n",
       "      <td>-0.110204</td>\n",
       "      <td>0.161805</td>\n",
       "      <td>-0.306240</td>\n",
       "      <td>1</td>\n",
       "    </tr>\n",
       "    <tr>\n",
       "      <th>...</th>\n",
       "      <td>...</td>\n",
       "      <td>...</td>\n",
       "      <td>...</td>\n",
       "      <td>...</td>\n",
       "      <td>...</td>\n",
       "      <td>...</td>\n",
       "      <td>...</td>\n",
       "      <td>...</td>\n",
       "    </tr>\n",
       "    <tr>\n",
       "      <th>286806</th>\n",
       "      <td>2906.188554</td>\n",
       "      <td>NaN</td>\n",
       "      <td>NaN</td>\n",
       "      <td>NaN</td>\n",
       "      <td>NaN</td>\n",
       "      <td>NaN</td>\n",
       "      <td>NaN</td>\n",
       "      <td>1</td>\n",
       "    </tr>\n",
       "    <tr>\n",
       "      <th>286807</th>\n",
       "      <td>2906.198618</td>\n",
       "      <td>NaN</td>\n",
       "      <td>NaN</td>\n",
       "      <td>NaN</td>\n",
       "      <td>NaN</td>\n",
       "      <td>NaN</td>\n",
       "      <td>NaN</td>\n",
       "      <td>1</td>\n",
       "    </tr>\n",
       "    <tr>\n",
       "      <th>286808</th>\n",
       "      <td>2906.208682</td>\n",
       "      <td>NaN</td>\n",
       "      <td>NaN</td>\n",
       "      <td>NaN</td>\n",
       "      <td>NaN</td>\n",
       "      <td>NaN</td>\n",
       "      <td>NaN</td>\n",
       "      <td>1</td>\n",
       "    </tr>\n",
       "    <tr>\n",
       "      <th>286809</th>\n",
       "      <td>2906.218746</td>\n",
       "      <td>NaN</td>\n",
       "      <td>NaN</td>\n",
       "      <td>NaN</td>\n",
       "      <td>NaN</td>\n",
       "      <td>NaN</td>\n",
       "      <td>NaN</td>\n",
       "      <td>1</td>\n",
       "    </tr>\n",
       "    <tr>\n",
       "      <th>286810</th>\n",
       "      <td>2906.228810</td>\n",
       "      <td>NaN</td>\n",
       "      <td>NaN</td>\n",
       "      <td>NaN</td>\n",
       "      <td>NaN</td>\n",
       "      <td>NaN</td>\n",
       "      <td>NaN</td>\n",
       "      <td>1</td>\n",
       "    </tr>\n",
       "  </tbody>\n",
       "</table>\n",
       "<p>286811 rows × 8 columns</p>\n",
       "</div>"
      ],
      "text/plain": [
       "        seconds_elapsed  z_accelerometer  y_accelerometer  x_accelerometer  \\\n",
       "0              0.029490         0.620725        -0.024275         0.340136   \n",
       "1              0.040027        -0.743177        -0.262221        -0.391995   \n",
       "2              0.040460         0.600845         0.465898        -1.121842   \n",
       "3              0.041894         1.271829        -0.032704        -0.037981   \n",
       "4              0.049252         1.260347        -0.319836        -0.342097   \n",
       "...                 ...              ...              ...              ...   \n",
       "286806      2906.188554              NaN              NaN              NaN   \n",
       "286807      2906.198618              NaN              NaN              NaN   \n",
       "286808      2906.208682              NaN              NaN              NaN   \n",
       "286809      2906.218746              NaN              NaN              NaN   \n",
       "286810      2906.228810              NaN              NaN              NaN   \n",
       "\n",
       "        z_gyroscope  y_gyroscope  x_gyroscope  user  \n",
       "0          0.015129    -0.497939    -0.129197     2  \n",
       "1          0.203035     0.026631    -0.031968     3  \n",
       "2         -0.556805    -0.030059    -0.312905     1  \n",
       "3         -0.022566    -0.200779    -0.155414     2  \n",
       "4         -0.110204     0.161805    -0.306240     1  \n",
       "...             ...          ...          ...   ...  \n",
       "286806          NaN          NaN          NaN     1  \n",
       "286807          NaN          NaN          NaN     1  \n",
       "286808          NaN          NaN          NaN     1  \n",
       "286809          NaN          NaN          NaN     1  \n",
       "286810          NaN          NaN          NaN     1  \n",
       "\n",
       "[286811 rows x 8 columns]"
      ]
     },
     "execution_count": 256,
     "metadata": {},
     "output_type": "execute_result"
    }
   ],
   "source": [
    "df = pd.read_csv('data/dataFile.csv')\n",
    "df"
   ]
  },
  {
   "cell_type": "code",
   "execution_count": 257,
   "id": "5b9c8a2b",
   "metadata": {},
   "outputs": [
    {
     "data": {
      "text/plain": [
       "2    117134\n",
       "1     88248\n",
       "3     81429\n",
       "Name: user, dtype: int64"
      ]
     },
     "execution_count": 257,
     "metadata": {},
     "output_type": "execute_result"
    }
   ],
   "source": [
    "df.user.value_counts()"
   ]
  },
  {
   "cell_type": "markdown",
   "id": "67538365",
   "metadata": {},
   "source": [
    "#### Defining the target and the features the model will use "
   ]
  },
  {
   "cell_type": "code",
   "execution_count": 258,
   "id": "344a6b3b",
   "metadata": {},
   "outputs": [
    {
     "data": {
      "text/plain": [
       "['seconds_elapsed',\n",
       " 'z_accelerometer',\n",
       " 'y_accelerometer',\n",
       " 'x_accelerometer',\n",
       " 'z_gyroscope',\n",
       " 'y_gyroscope',\n",
       " 'x_gyroscope']"
      ]
     },
     "execution_count": 258,
     "metadata": {},
     "output_type": "execute_result"
    }
   ],
   "source": [
    "target = 'user'\n",
    "features = df.columns.to_list()\n",
    "remove = ['user']\n",
    "features = [x for x in features if x not in remove ]\n",
    "features"
   ]
  },
  {
   "cell_type": "code",
   "execution_count": 259,
   "id": "cc8f98ab",
   "metadata": {},
   "outputs": [],
   "source": [
    "# Convert time from datetime to unix, so the model can use it\n",
    "df['seconds_elapsed'] = pd.to_datetime(df['seconds_elapsed']).astype('int64') // 10**9\n",
    "\n",
    "X = df[features]\n",
    "y= df[target]\n",
    "\n",
    "\n",
    "# Split the data into train and test subsets\n",
    "X_train, X_test, y_train, y_test = train_test_split(\n",
    "X, y, random_state=42, stratify=y, test_size=0.3)"
   ]
  },
  {
   "cell_type": "markdown",
   "id": "828f727e",
   "metadata": {},
   "source": [
    "#### Now, we build our pipeline"
   ]
  },
  {
   "cell_type": "code",
   "execution_count": 260,
   "id": "a27abb41",
   "metadata": {},
   "outputs": [],
   "source": [
    "# Separate categorical and numerical columns\n",
    "from sklearn.impute import SimpleImputer\n",
    "\n",
    "\n",
    "categorical_cols = X.select_dtypes(exclude=['number']).columns.to_list()\n",
    "numerical_cols = X.select_dtypes(include=['number']).columns.to_list()\n",
    "\n",
    "\n",
    "# Pipeline for the categorical data\n",
    "categorical_pipeline = Pipeline(steps=[\n",
    "    ('one_hot_encoder', OneHotEncoder(handle_unknown='ignore')) \n",
    "])\n",
    "\n",
    "# Pipeline for the numeric data\n",
    "numeric_pipeline = Pipeline(steps=[\n",
    "    ('imp', SimpleImputer(strategy=\"mean\")),\n",
    "    ('scaler', MinMaxScaler())\n",
    "])\n",
    "\n",
    "preprocessor = ColumnTransformer(transformers=[\n",
    "    ('categorical', categorical_pipeline, categorical_cols),\n",
    "    ('numerical', numeric_pipeline ,numerical_cols)\n",
    "    ], remainder='passthrough')\n",
    "\n"
   ]
  },
  {
   "cell_type": "code",
   "execution_count": 261,
   "id": "5ea39140",
   "metadata": {},
   "outputs": [],
   "source": [
    "# Assemble the preprocessor and the model together using a Pipeline\n",
    "pipeline = Pipeline(steps=[\n",
    "    ('preprocessor', preprocessor),\n",
    "    ('model', RandomForestClassifier(random_state=42))\n",
    "    ])\n",
    "\n",
    "\n",
    "\n",
    "# Fit the model\n",
    "pipeline.fit(X_train, y_train)\n",
    "\n",
    "\n",
    "# Predict using the best model\n",
    "y_pred = pipeline.predict(X_test)\n",
    "y_probs = pipeline.predict_proba(X_test)"
   ]
  },
  {
   "cell_type": "code",
   "execution_count": 262,
   "id": "2db1c6e7",
   "metadata": {},
   "outputs": [
    {
     "name": "stdout",
     "output_type": "stream",
     "text": [
      "Accuracy:  0.8087025242898982\n",
      "Balanced Accuracy Score:  0.8009313188765116\n",
      "AUC Score:  0.9371769290774541\n"
     ]
    }
   ],
   "source": [
    "# Get the performance scores\n",
    "acc = accuracy_score(y_true=y_test, y_pred=y_pred)\n",
    "bcc = balanced_accuracy_score(y_true=y_test, y_pred=y_pred)\n",
    "auc = roc_auc_score(y_true=y_test, y_score=y_probs, average='macro', multi_class='ovo')\n",
    "\n",
    "print(\"Accuracy: \", acc)\n",
    "print(\"Balanced Accuracy Score: \", bcc)\n",
    "print(\"AUC Score: \", auc)"
   ]
  },
  {
   "cell_type": "markdown",
   "id": "5c8477e4",
   "metadata": {},
   "source": [
    "### Get the importance of each feature"
   ]
  },
  {
   "cell_type": "code",
   "execution_count": 263,
   "id": "71977eb1",
   "metadata": {},
   "outputs": [
    {
     "name": "stdout",
     "output_type": "stream",
     "text": [
      "numerical__z_gyroscope: 0.2578\n",
      "numerical__x_accelerometer: 0.1695\n",
      "numerical__y_accelerometer: 0.1497\n",
      "numerical__x_gyroscope: 0.1494\n",
      "numerical__y_gyroscope: 0.1385\n",
      "numerical__z_accelerometer: 0.1352\n",
      "numerical__seconds_elapsed: 0.0000\n"
     ]
    }
   ],
   "source": [
    "# Get the trained Random Forest model\n",
    "rf_model = pipeline.named_steps['model']\n",
    "\n",
    "# Get feature names after preprocessing\n",
    "feature_names = pipeline.named_steps['preprocessor'].get_feature_names_out()\n",
    "\n",
    "# Get importances\n",
    "importances = rf_model.feature_importances_\n",
    "\n",
    "# Pair names and importances\n",
    "feature_importance = sorted(zip(feature_names, importances), key=lambda x: x[1], reverse=True)\n",
    "\n",
    "# Print top features\n",
    "for name, score in feature_importance[:10]:\n",
    "    print(f\"{name}: {score:.4f}\")\n"
   ]
  },
  {
   "cell_type": "code",
   "execution_count": 264,
   "id": "a23c1b50",
   "metadata": {},
   "outputs": [
    {
     "data": {
      "image/png": "[encoded data removed]",
      "text/plain": [
       "<Figure size 1000x500 with 1 Axes>"
      ]
     },
     "metadata": {},
     "output_type": "display_data"
    }
   ],
   "source": [
    "import matplotlib.pyplot as plt\n",
    "\n",
    "# Show the top 10 features\n",
    "top_n = 10 \n",
    "names, scores = zip(*feature_importance[:top_n])\n",
    "\n",
    "plt.figure(figsize=(10, 5))\n",
    "# Reverse for descending order\n",
    "plt.barh(names[::-1], scores[::-1])  \n",
    "plt.xlabel(\"Importance\")\n",
    "plt.title(\"Top Feature Importances (Random Forest)\")\n",
    "plt.show()\n"
   ]
  },
  {
   "cell_type": "code",
   "execution_count": 265,
   "id": "8ac3e8e3",
   "metadata": {},
   "outputs": [
    {
     "name": "stderr",
     "output_type": "stream",
     "text": [
      "/var/folders/j6/hnb1wkw115x3893s7581k7s40000gn/T/ipykernel_69993/1861393590.py:11: FutureWarning: \n",
      "\n",
      "Passing `palette` without assigning `hue` is deprecated and will be removed in v0.14.0. Assign the `x` variable to `hue` and set `legend=False` for the same effect.\n",
      "\n",
      "  sns.countplot(x=df.user, palette=\"pastel\")\n"
     ]
    },
    {
     "data": {
      "image/png": "[encoded data removed]",
      "text/plain": [
       "<Figure size 600x400 with 1 Axes>"
      ]
     },
     "metadata": {},
     "output_type": "display_data"
    }
   ],
   "source": [
    "import matplotlib.pyplot as plt\n",
    "import seaborn as sns\n",
    "import pandas as pd\n",
    "\n",
    "# Assuming y is your target variable as a Pandas Series or array\n",
    "# Convert to Series if needed\n",
    "\n",
    "\n",
    "# Plot class distribution\n",
    "plt.figure(figsize=(6, 4))\n",
    "sns.countplot(x=df.user, palette=\"pastel\")\n",
    "\n",
    "plt.title(\"Count of Each Class in Target Variable\")\n",
    "plt.xlabel(\"User\")\n",
    "plt.ylabel(\"Count\")\n",
    "plt.tight_layout()\n",
    "plt.show()\n"
   ]
  }
 ],
 "metadata": {
  "kernelspec": {
   "display_name": "base",
   "language": "python",
   "name": "python3"
  },
  "language_info": {
   "codemirror_mode": {
    "name": "ipython",
    "version": 3
   },
   "file_extension": ".py",
   "mimetype": "text/x-python",
   "name": "python",
   "nbconvert_exporter": "python",
   "pygments_lexer": "ipython3",
   "version": "3.12.3"
  }
 },
 "nbformat": 4,
 "nbformat_minor": 5
}
